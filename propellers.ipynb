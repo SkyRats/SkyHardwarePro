{
 "cells": [
  {
   "cell_type": "markdown",
   "metadata": {},
   "source": [
    "# Empuxo gerado por uma helice\n",
    "\n",
    "Para esse estudo considerou-se a modelagem matemática fornecida pelo seguinte estudo:\n",
    "http://www.engenhariamecanica.ufes.br/sites/engenhariamecanica.ufes.br/files/field/anexo/2015.1_-_marcos_cypriano_roberto_makio.pdf\n",
    "\n",
    "Realizou-se o confronto dessa teoria com dados dos fabricantes de helices"
   ]
  },
  {
   "cell_type": "code",
   "execution_count": 17,
   "metadata": {},
   "outputs": [],
   "source": [
    "import numpy as np\n",
    "\n",
    "#Em metros\n",
    "def pol2metros(pol):\n",
    "    return pol*0.0254\n",
    "\n",
    "# Em radianos por segundo\n",
    "def rpm2rads(rpm):\n",
    "    return 2*np.pi*rpm/60\n",
    "\n",
    "#velocidade tangencial\n",
    "def V(w,r):\n",
    "    return w*r\n",
    "#Densidade do ar\n",
    "p = 1.225 #CNTP 1ATM NIVEL DO MAR 15 GRAUS \n",
    "\n",
    "#Corda em função do raio pra um helice muito particular\n",
    "def corda(r):\n",
    "    return -176.85*r**4 + 29.63*r**3 - 1.7436*r**2 + 0.10045*r + 0.022753 \n",
    "\n",
    "#Variação do angulo de ataque ao longo de r\n",
    "def alpha(r):\n",
    "    return 1.775*(10**7)*r**5 - 8.0429*(10**6)*r**4 + 1.3913*(10**6)*r**3 - 1.1092*(10**5)*r**2 + 3790.5*r - 22.636\n",
    "    \n",
    "#Coeficiente de sustentação\n",
    "def cs(r):\n",
    "    if(alpha(r)<12):\n",
    "        return 0.091071*alpha(r) + 0.28071 #se angulo for maior q 12 graus use 0.65 no lugar dessa expressao\n",
    "    else:\n",
    "        return 0.65\n",
    "\n",
    "#Coeficiente de arrasto\n",
    "def ca(r):\n",
    "    return 0.06408*(cs(r))**3 - 0.12055*(cs(r))**2 + 0.062974*(cs(r)) + 0.014138\n",
    "\n",
    "# empuxo = f(r)\n",
    "def dE(r,w,pitch):\n",
    "    theta = pitch\n",
    "    return 0.5*p*((V(w,r))**2)*corda(r)*(cs(r)*np.cos(theta) - ca(r)*np.sin(theta))\n",
    "\n",
    "def empuxo(r,w,pitch,N_discretizacao,Npas):\n",
    "    #pitch = pitch*np.pi/180\n",
    "    delta_r = r/N_discretizacao\n",
    "    E = []\n",
    "    for i in range(1,N_discretizacao):\n",
    "        E.append(dE(r,w,pitch)*delta_r)\n",
    "    return Npas*sum(E)\n",
    "\n",
    "def overfiting(i):\n",
    "    return i*1.66915/5.44"
   ]
  },
  {
   "cell_type": "code",
   "execution_count": 21,
   "metadata": {},
   "outputs": [
    {
     "data": {
      "text/plain": [
       "369.4546012303239"
      ]
     },
     "execution_count": 21,
     "metadata": {},
     "output_type": "execute_result"
    }
   ],
   "source": [
    "empuxo(0.2032,rpm2rads(18612),4.5,1000000,2)#*overfiting(5.44)"
   ]
  },
  {
   "cell_type": "code",
   "execution_count": 24,
   "metadata": {},
   "outputs": [
    {
     "data": {
      "text/plain": [
       "442.34652374793114"
      ]
     },
     "execution_count": 24,
     "metadata": {},
     "output_type": "execute_result"
    }
   ],
   "source": [
    "empuxo(pol2metros(7),rpm2rads(1200*19.5),4.2,10000,2)*overfiting(4.71)"
   ]
  },
  {
   "cell_type": "code",
   "execution_count": null,
   "metadata": {},
   "outputs": [],
   "source": []
  },
  {
   "cell_type": "code",
   "execution_count": null,
   "metadata": {},
   "outputs": [],
   "source": []
  },
  {
   "cell_type": "code",
   "execution_count": null,
   "metadata": {},
   "outputs": [],
   "source": []
  }
 ],
 "metadata": {
  "kernelspec": {
   "display_name": "Python 3",
   "language": "python",
   "name": "python3"
  },
  "language_info": {
   "codemirror_mode": {
    "name": "ipython",
    "version": 3
   },
   "file_extension": ".py",
   "mimetype": "text/x-python",
   "name": "python",
   "nbconvert_exporter": "python",
   "pygments_lexer": "ipython3",
   "version": "3.7.6"
  }
 },
 "nbformat": 4,
 "nbformat_minor": 4
}
